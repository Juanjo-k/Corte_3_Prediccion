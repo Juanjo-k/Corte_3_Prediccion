{
  "nbformat": 4,
  "nbformat_minor": 0,
  "metadata": {
    "colab": {
      "provenance": [],
      "mount_file_id": "1QVJcNEU6vHngLfj5wvlzwsh0MJ4FRMaX",
      "authorship_tag": "ABX9TyMMFFFmXiiuBYYeMK4c8u0Z",
      "include_colab_link": true
    },
    "kernelspec": {
      "name": "python3",
      "display_name": "Python 3"
    },
    "language_info": {
      "name": "python"
    }
  },
  "cells": [
    {
      "cell_type": "markdown",
      "metadata": {
        "id": "view-in-github",
        "colab_type": "text"
      },
      "source": [
        "<a href=\"https://colab.research.google.com/github/Juanjo-k/Corte_3_Prediccion/blob/main/RegresionLineal.ipynb\" target=\"_parent\"><img src=\"https://colab.research.google.com/assets/colab-badge.svg\" alt=\"Open In Colab\"/></a>"
      ]
    },
    {
      "cell_type": "code",
      "execution_count": null,
      "metadata": {
        "colab": {
          "base_uri": "https://localhost:8080/"
        },
        "id": "ZdBatWzwy2fu",
        "outputId": "df1cb3c4-018e-448d-edd0-4c1123159097"
      },
      "outputs": [
        {
          "output_type": "stream",
          "name": "stdout",
          "text": [
            "Archivo cargado exitosamente.\n",
            "   Semana  Horas_Trabajadas  Horas_Descanso  Productos_Terminados\n",
            "0       1                42               2             28.925481\n",
            "1       2                45               3             30.570058\n",
            "2       3                30               2             21.132880\n",
            "3       4                33               2             21.798530\n",
            "4       5                33               3             19.343444\n"
          ]
        }
      ],
      "source": [
        "# prompt: carga el siguiente archivo de excel \"/content/drive/MyDrive/Estadistica industrial/tercer corte/datos_regresion_simple.xlsx\"\n",
        "\n",
        "import pandas as pd\n",
        "\n",
        "# Ruta al archivo Excel\n",
        "file_path = \"/content/drive/MyDrive/Estadistica industrial/tercer corte/datos_regresion_simple.xlsx\"\n",
        "\n",
        "# Cargar el archivo Excel en un DataFrame de pandas\n",
        "try:\n",
        "  df = pd.read_excel(file_path)\n",
        "  print(\"Archivo cargado exitosamente.\")\n",
        "  # Mostrar las primeras filas del DataFrame para verificar\n",
        "  print(df.head())\n",
        "except FileNotFoundError:\n",
        "  print(f\"Error: El archivo '{file_path}' no se encontró.\")\n",
        "except Exception as e:\n",
        "  print(f\"Ocurrió un error al cargar el archivo: {e}\")\n"
      ]
    },
    {
      "cell_type": "code",
      "source": [
        "# prompt: dame un modelo de regresión simple, la variable independiente son Horas_Trabajadas y le dependiente Productos_Terminados\n",
        "\n",
        "import statsmodels.api as sm\n",
        "\n",
        "# Suponiendo que 'df' ya está definido y contiene las columnas 'Horas_Trabajadas' y 'Productos_Terminados'\n",
        "\n",
        "# Definir las variables dependiente e independiente\n",
        "X = df['Horas_Trabajadas']\n",
        "y = df['Productos_Terminados']\n",
        "\n",
        "# Agregar una constante a la variable independiente (intercepto)\n",
        "X = sm.add_constant(X)\n",
        "\n",
        "# Crear el modelo de regresión lineal\n",
        "model = sm.OLS(y, X)\n",
        "\n",
        "# Ajustar el modelo a los datos\n",
        "results = model.fit()\n",
        "\n",
        "# Imprimir los resultados del modelo\n",
        "print(results.summary())\n"
      ],
      "metadata": {
        "colab": {
          "base_uri": "https://localhost:8080/"
        },
        "id": "-EFZJCDJzk_v",
        "outputId": "75efa5a2-d8e9-44c4-9970-fccbde3018ae"
      },
      "execution_count": null,
      "outputs": [
        {
          "output_type": "stream",
          "name": "stdout",
          "text": [
            "                             OLS Regression Results                             \n",
            "================================================================================\n",
            "Dep. Variable:     Productos_Terminados   R-squared:                       0.790\n",
            "Model:                              OLS   Adj. R-squared:                  0.786\n",
            "Method:                   Least Squares   F-statistic:                     180.9\n",
            "Date:                  Tue, 13 May 2025   Prob (F-statistic):           6.72e-18\n",
            "Time:                          18:06:34   Log-Likelihood:                -98.737\n",
            "No. Observations:                    50   AIC:                             201.5\n",
            "Df Residuals:                        48   BIC:                             205.3\n",
            "Df Model:                             1                                         \n",
            "Covariance Type:              nonrobust                                         \n",
            "====================================================================================\n",
            "                       coef    std err          t      P>|t|      [0.025      0.975]\n",
            "------------------------------------------------------------------------------------\n",
            "const                5.1664      1.484      3.480      0.001       2.182       8.151\n",
            "Horas_Trabajadas     0.4941      0.037     13.449      0.000       0.420       0.568\n",
            "==============================================================================\n",
            "Omnibus:                        0.607   Durbin-Watson:                   1.797\n",
            "Prob(Omnibus):                  0.738   Jarque-Bera (JB):                0.645\n",
            "Skew:                           0.243   Prob(JB):                        0.724\n",
            "Kurtosis:                       2.730   Cond. No.                         239.\n",
            "==============================================================================\n",
            "\n",
            "Notes:\n",
            "[1] Standard Errors assume that the covariance matrix of the errors is correctly specified.\n"
          ]
        }
      ]
    },
    {
      "cell_type": "code",
      "source": [
        "# prompt: Dame un grafico de dispersion con su linea de tendencia\n",
        "\n",
        "import matplotlib.pyplot as plt\n",
        "\n",
        "# Obtener los valores predichos por el modelo\n",
        "y_pred = results.predict(X)\n",
        "\n",
        "# Crear el gráfico de dispersión\n",
        "plt.scatter(X['Horas_Trabajadas'], y, label='Datos reales')\n",
        "plt.plot(X['Horas_Trabajadas'], y_pred, color='red', label='Línea de tendencia')\n",
        "\n",
        "# Agregar etiquetas y título al gráfico\n",
        "plt.xlabel('Horas Trabajadas')\n",
        "plt.ylabel('Productos Terminados')\n",
        "plt.title('Gráfico de Dispersión con Línea de Tendencia')\n",
        "plt.legend()\n",
        "\n",
        "# Mostrar el gráfico\n",
        "plt.show()\n"
      ],
      "metadata": {
        "colab": {
          "base_uri": "https://localhost:8080/",
          "height": 472
        },
        "id": "XuOfezce0_MJ",
        "outputId": "dce7a8d3-a778-4a75-de3d-30a565bcd4b5"
      },
      "execution_count": null,
      "outputs": [
        {
          "output_type": "display_data",
          "data": {
            "text/plain": [
              "<Figure size 640x480 with 1 Axes>"
            ],
            "image/png": "[encoded data removed]"
          },
          "metadata": {}
        }
      ]
    },
    {
      "cell_type": "code",
      "source": [
        "# prompt: Dame la ecuacion de la recta\n",
        "\n",
        "# Obtener los coeficientes de la regresión\n",
        "intercept = results.params['const']\n",
        "slope = results.params['Horas_Trabajadas']\n",
        "\n",
        "# Imprimir la ecuación de la recta\n",
        "print(f\"La ecuación de la recta de regresión es: y = {intercept:.2f} + {slope:.2f}x\")\n"
      ],
      "metadata": {
        "colab": {
          "base_uri": "https://localhost:8080/"
        },
        "id": "HFfUh6Kx1GgC",
        "outputId": "9cbbe197-6227-44c7-9cd7-b94c686b17b4"
      },
      "execution_count": null,
      "outputs": [
        {
          "output_type": "stream",
          "name": "stdout",
          "text": [
            "La ecuación de la recta de regresión es: y = 5.17 + 0.49x\n"
          ]
        }
      ]
    },
    {
      "cell_type": "code",
      "source": [
        "# prompt: Necesito determinar el coeficiente de terminación\n",
        "\n",
        "# ... (código anterior sin cambios)\n",
        "\n",
        "# Obtener el coeficiente de determinación (R-cuadrado)\n",
        "r_squared = results.rsquared\n",
        "\n",
        "# Imprimir el coeficiente de determinación\n",
        "print(f\"El coeficiente de determinación (R-cuadrado) es: {r_squared:.4f}\")\n"
      ],
      "metadata": {
        "colab": {
          "base_uri": "https://localhost:8080/"
        },
        "id": "AkC9fddB2gf9",
        "outputId": "82bd0af4-3a9a-4a62-bd5c-008431276d41"
      },
      "execution_count": null,
      "outputs": [
        {
          "output_type": "stream",
          "name": "stdout",
          "text": [
            "El coeficiente de determinación (R-cuadrado) es: 0.7903\n"
          ]
        }
      ]
    },
    {
      "cell_type": "code",
      "source": [
        "# prompt: Necesito que generes una predicción para un valor de X de 35 Horas_Trabajadas\n",
        "\n",
        "import pandas as pd\n",
        "import statsmodels.api as sm\n",
        "import matplotlib.pyplot as plt\n",
        "\n",
        "# Ruta al archivo Excel\n",
        "file_path = \"/content/drive/MyDrive/Estadistica industrial/tercer corte/datos_regresion_simple.xlsx\"\n",
        "\n",
        "# Cargar el archivo Excel en un DataFrame de pandas\n",
        "try:\n",
        "  df = pd.read_excel(file_path)\n",
        "  print(\"Archivo cargado exitosamente.\")\n",
        "  # Mostrar las primeras filas del DataFrame para verificar\n",
        "  print(df.head())\n",
        "except FileNotFoundError:\n",
        "  print(f\"Error: El archivo '{file_path}' no se encontró.\")\n",
        "except Exception as e:\n",
        "  print(f\"Ocurrió un error al cargar el archivo: {e}\")\n",
        "\n",
        "# Definir las variables dependiente e independiente\n",
        "X = df['Horas_Trabajadas']\n",
        "y = df['Productos_Terminados']\n",
        "\n",
        "# Agregar una constante a la variable independiente (intercepto)\n",
        "X = sm.add_constant(X)\n",
        "\n",
        "# Crear el modelo de regresión lineal\n",
        "model = sm.OLS(y, X)\n",
        "\n",
        "# Ajustar el modelo a los datos\n",
        "results = model.fit()\n",
        "\n",
        "# Predecir para un nuevo valor de X (35 horas trabajadas)\n",
        "new_x = pd.DataFrame({'const': 1, 'Horas_Trabajadas': [35]})\n",
        "predicted_y = results.predict(new_x)\n",
        "\n",
        "print(f\"Predicción para 35 horas trabajadas: {predicted_y[0]:.2f} productos terminados\")\n"
      ],
      "metadata": {
        "colab": {
          "base_uri": "https://localhost:8080/"
        },
        "id": "syun2dlT2-iJ",
        "outputId": "699ebf90-04e5-4ea6-a900-166f4794d2a8"
      },
      "execution_count": null,
      "outputs": [
        {
          "output_type": "stream",
          "name": "stdout",
          "text": [
            "Archivo cargado exitosamente.\n",
            "   Semana  Horas_Trabajadas  Horas_Descanso  Productos_Terminados\n",
            "0       1                42               2             28.925481\n",
            "1       2                45               3             30.570058\n",
            "2       3                30               2             21.132880\n",
            "3       4                33               2             21.798530\n",
            "4       5                33               3             19.343444\n",
            "Predicción para 35 horas trabajadas: 22.46 productos terminados\n"
          ]
        }
      ]
    }
  ]
}